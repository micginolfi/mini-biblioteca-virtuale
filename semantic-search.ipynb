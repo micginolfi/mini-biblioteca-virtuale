{
 "cells": [
  {
   "cell_type": "code",
   "execution_count": null,
   "metadata": {
    "colab": {
     "base_uri": "https://localhost:8080/",
     "height": 992
    },
    "id": "r88g7xGx4d60",
    "outputId": "743612dd-b0fc-41fc-9285-c037fbf96ad4"
   },
   "outputs": [],
   "source": [
    "!pip install transformers sentence-transformers\n",
    "!pip install umap\n",
    "!pip install umap-learn\n",
    "!pip install plotly"
   ]
  },
  {
   "cell_type": "code",
   "execution_count": null,
   "metadata": {
    "colab": {
     "base_uri": "https://localhost:8080/"
    },
    "id": "p8YSxXI18_Sj",
    "outputId": "060b6c9a-1f26-4c01-b707-f3e9e278eb1d"
   },
   "outputs": [
    {
     "name": "stdout",
     "output_type": "stream",
     "text": [
      "Embedding dei libri:\n",
      " tensor([[ 0.0465,  0.0983, -0.0444,  ...,  0.0390, -0.0447, -0.0224],\n",
      "        [-0.0902,  0.0775, -0.0642,  ...,  0.0604, -0.0009, -0.0425],\n",
      "        [-0.0679,  0.0892,  0.0281,  ...,  0.0073, -0.0027, -0.0199],\n",
      "        ...,\n",
      "        [-0.0180,  0.0453, -0.0062,  ...,  0.0718, -0.0204, -0.0808],\n",
      "        [ 0.0033,  0.0595, -0.0342,  ...,  0.0633, -0.0342, -0.0298],\n",
      "        [-0.0756,  0.0803, -0.0863,  ...,  0.0222, -0.0155,  0.0504]],\n",
      "       device='mps:0')\n"
     ]
    }
   ],
   "source": [
    "from sentence_transformers import SentenceTransformer, util\n",
    "import numpy as np\n",
    "\n",
    "# Carico il modello pre-addestrato Sentence-BERT\n",
    "model = SentenceTransformer('all-MiniLM-L6-v2')  # una versione abbastanza leggera\n",
    "\n",
    "# Supponiamo di avere un elenco di testi (in questo caso poesie ed estratti)\n",
    "books = [\n",
    "    \"autore Petrarca: Solo e pensoso i più deserti campi  vo mesurando a passi tardi e lenti,  e gli occhi porto per fuggire intenti  ove vestigio uman l'arena stampi.\",\n",
    "    \"autore Dante: Nel mezzo del cammin di nostra vita  mi ritrovai per una selva oscura,  ché la diritta via era smarrita.\",\n",
    "    \"autore Leopardi: Sempre caro mi fu quest’ermo colle,  e questa siepe, che da tanta parte  dell'ultimo orizzonte il guardo esclude.\",\n",
    "    \"autore Foscolo: A egregie cose il forte animo accendono  l'urne de' forti o Pindemonte.\",\n",
    "    \"autore Pascoli: San Lorenzo, io lo so perché tanto di stelle  per l'aria tranquilla arde e cade, perché sì gran pianto  nel concavo cielo sfavilla.\",\n",
    "    \"autore Montale: Spesso il male di vivere ho incontrato:  era il rivo strozzato che gorgoglia.\",\n",
    "    \"autore Ungaretti: Si sta come d’autunno  sugli alberi le foglie.\",\n",
    "    \"autore Quasimodo: Ed è subito sera.\",\n",
    "    \"autore Carducci: Davanti a San Guido  i cipressi che a Bolgheri alti e schietti  van da San Guido in duplice filar.\",\n",
    "    \"autore Gozzano: Non amo che le rose  che non colsi.\",\n",
    "    \"autore Saba: La casa di mia madre a Trieste era quieta e scura.\",\n",
    "    \"autore D’Annunzio: Settembre, andiamo. È tempo di migrare.\",\n",
    "    \"autore Giusti: Ride la gazza, nera sugli aranci,  stormi d’uccelli neri a volo basso.\",\n",
    "    \"autore Govoni: I tuoi occhi sono pozzi di fuoco, dove s'affondano i miei sogni.\",\n",
    "    \"autore Marinetti: Parole in libertà  illuminano il buio della notte.\",\n",
    "    \"autore Boiardo: Amor, che nel mio pensier vive e regna  e 'l suo seggio maggior nel cor mantiene.\",\n",
    "    \"autore Guinizelli: Al cor gentil rempaira sempre amore,  com'a l'ausello in selva la verdura.\",\n",
    "    \"autore Ariosto: Le donne, i cavallier, l'arme, gli amori,  le cortesie, l'audaci imprese io canto.\",\n",
    "    \"autore Tasso: Oh bella libertà, dolce è il tuo raggio  a chi è cresciuto in sen d’una speranza!\",\n",
    "    \"autore Parini: Tu, ch’eri sì, nel voler degli altri, e il tuo,  sì pura e alteramente quieta.\",\n",
    "    \"autore De Amicis: Scendeva lieve la pioggia d’oro  e i bimbi la correvano a inseguire.\",\n",
    "    \"autore Prati: Fino a quel giorno in cui ritornerò  da te, là dove mai ti lasciai.\",\n",
    "    \"autore Tommasèo: Che giova all'uom la forza de l'argento?  La povertà è più che il ricco vanto.\",\n",
    "    \"autore Pellico: Alla patria io respiro e chiudo in cuore  tutta la dolce libertà del cielo.\",\n",
    "    \"autore Manzoni: Ei fu. Siccome immobile,  dato il mortal sospiro.\",\n",
    "    \"autore Verga: Una perla nel mar, chi mai la trova  non sa che sarà poi per sempre sua.\",\n",
    "    \"autore Caproni: Lo sai che io so che tu sai,  ma ognuno sa quel che sa e tace.\",\n",
    "    \"autore Pavese: Verrà la morte e avrà i tuoi occhi.\",\n",
    "    \"autore Sereni: Se non faremo i conti,  il vento solleverà i calcinacci.\",\n",
    "    \"autore Roversi: Dove volano i passeri all’imbrunire?  L’aria è greve di silenzio.\",\n",
    "    \"autore Campana: Cielo stellato sopra di noi,  voce lontana d'un canto triste.\"\n",
    "]\n",
    "\n",
    "\n",
    "# Calcolo l'embedding per ogni libro\n",
    "book_embeddings = model.encode(books, convert_to_tensor=True)\n",
    "\n",
    "\n",
    "print(\"Embedding dei libri:\\n\", book_embeddings)\n"
   ]
  },
  {
   "cell_type": "code",
   "execution_count": null,
   "metadata": {
    "colab": {
     "base_uri": "https://localhost:8080/",
     "height": 598
    },
    "id": "L9mPz88jAAyq",
    "outputId": "b4f7df88-873c-479c-97e1-9bd0504f398d"
   },
   "outputs": [
    {
     "data": {
      "application/vnd.plotly.v1+json": {
       "config": {
        "plotlyServerURL": "https://plot.ly"
       },
       "data": [
        {
         "customdata": [
          [
           "autore Petrarca: Solo e pensoso i più deserti campi  vo mesurando a passi tardi e lenti,  e gli occhi porto per fuggire intenti  ove vestigio uman l'arena stampi.",
           "Solo e pensoso i più deserti campi  vo mesurando a passi tardi e lenti,  e gli occhi porto per fuggire intenti  ove vestigio uman l'arena stampi."
          ],
          [
           "autore Dante: Nel mezzo del cammin di nostra vita  mi ritrovai per una selva oscura,  ché la diritta via era smarrita.",
           "Nel mezzo del cammin di nostra vita  mi ritrovai per una selva oscura,  ché la diritta via era smarrita."
          ],
          [
           "autore Leopardi: Sempre caro mi fu quest’ermo colle,  e questa siepe, che da tanta parte  dell'ultimo orizzonte il guardo esclude.",
           "Sempre caro mi fu quest’ermo colle,  e questa siepe, che da tanta parte  dell'ultimo orizzonte il guardo esclude."
          ],
          [
           "autore Foscolo: A egregie cose il forte animo accendono  l'urne de' forti o Pindemonte.",
           "A egregie cose il forte animo accendono  l'urne de' forti o Pindemonte."
          ],
          [
           "autore Pascoli: San Lorenzo, io lo so perché tanto di stelle  per l'aria tranquilla arde e cade, perché sì gran pianto  nel concavo cielo sfavilla.",
           "San Lorenzo, io lo so perché tanto di stelle  per l'aria tranquilla arde e cade, perché sì gran pianto  nel concavo cielo sfavilla."
          ],
          [
           "autore Montale: Spesso il male di vivere ho incontrato:  era il rivo strozzato che gorgoglia.",
           "Spesso il male di vivere ho incontrato"
          ],
          [
           "autore Ungaretti: Si sta come d’autunno  sugli alberi le foglie.",
           "Si sta come d’autunno  sugli alberi le foglie."
          ],
          [
           "autore Quasimodo: Ed è subito sera.",
           "Ed è subito sera."
          ],
          [
           "autore Carducci: Davanti a San Guido  i cipressi che a Bolgheri alti e schietti  van da San Guido in duplice filar.",
           "Davanti a San Guido  i cipressi che a Bolgheri alti e schietti  van da San Guido in duplice filar."
          ],
          [
           "autore Gozzano: Non amo che le rose  che non colsi.",
           "Non amo che le rose  che non colsi."
          ],
          [
           "autore Saba: La casa di mia madre a Trieste era quieta e scura.",
           "La casa di mia madre a Trieste era quieta e scura."
          ],
          [
           "autore D’Annunzio: Settembre, andiamo. È tempo di migrare.",
           "Settembre, andiamo. È tempo di migrare."
          ],
          [
           "autore Giusti: Ride la gazza, nera sugli aranci,  stormi d’uccelli neri a volo basso.",
           "Ride la gazza, nera sugli aranci,  stormi d’uccelli neri a volo basso."
          ],
          [
           "autore Govoni: I tuoi occhi sono pozzi di fuoco, dove s'affondano i miei sogni.",
           "I tuoi occhi sono pozzi di fuoco, dove s'affondano i miei sogni."
          ],
          [
           "autore Marinetti: Parole in libertà  illuminano il buio della notte.",
           "Parole in libertà  illuminano il buio della notte."
          ],
          [
           "autore Boiardo: Amor, che nel mio pensier vive e regna  e 'l suo seggio maggior nel cor mantiene.",
           "Amor, che nel mio pensier vive e regna  e 'l suo seggio maggior nel cor mantiene."
          ],
          [
           "autore Guinizelli: Al cor gentil rempaira sempre amore,  com'a l'ausello in selva la verdura.",
           "Al cor gentil rempaira sempre amore,  com'a l'ausello in selva la verdura."
          ],
          [
           "autore Ariosto: Le donne, i cavallier, l'arme, gli amori,  le cortesie, l'audaci imprese io canto.",
           "Le donne, i cavallier, l'arme, gli amori,  le cortesie, l'audaci imprese io canto."
          ],
          [
           "autore Tasso: Oh bella libertà, dolce è il tuo raggio  a chi è cresciuto in sen d’una speranza!",
           "Oh bella libertà, dolce è il tuo raggio  a chi è cresciuto in sen d’una speranza!"
          ],
          [
           "autore Parini: Tu, ch’eri sì, nel voler degli altri, e il tuo,  sì pura e alteramente quieta.",
           "Tu, ch’eri sì, nel voler degli altri, e il tuo,  sì pura e alteramente quieta."
          ],
          [
           "autore De Amicis: Scendeva lieve la pioggia d’oro  e i bimbi la correvano a inseguire.",
           "Scendeva lieve la pioggia d’oro  e i bimbi la correvano a inseguire."
          ],
          [
           "autore Prati: Fino a quel giorno in cui ritornerò  da te, là dove mai ti lasciai.",
           "Fino a quel giorno in cui ritornerò  da te, là dove mai ti lasciai."
          ],
          [
           "autore Tommasèo: Che giova all'uom la forza de l'argento?  La povertà è più che il ricco vanto.",
           "Che giova all'uom la forza de l'argento?  La povertà è più che il ricco vanto."
          ],
          [
           "autore Pellico: Alla patria io respiro e chiudo in cuore  tutta la dolce libertà del cielo.",
           "Alla patria io respiro e chiudo in cuore  tutta la dolce libertà del cielo."
          ],
          [
           "autore Manzoni: Ei fu. Siccome immobile,  dato il mortal sospiro.",
           "Ei fu. Siccome immobile,  dato il mortal sospiro."
          ],
          [
           "autore Verga: Una perla nel mar, chi mai la trova  non sa che sarà poi per sempre sua.",
           "Una perla nel mar, chi mai la trova  non sa che sarà poi per sempre sua."
          ],
          [
           "autore Caproni: Lo sai che io so che tu sai,  ma ognuno sa quel che sa e tace.",
           "Lo sai che io so che tu sai,  ma ognuno sa quel che sa e tace."
          ],
          [
           "autore Pavese: Verrà la morte e avrà i tuoi occhi.",
           "Verrà la morte e avrà i tuoi occhi."
          ],
          [
           "autore Sereni: Se non faremo i conti,  il vento solleverà i calcinacci.",
           "Se non faremo i conti,  il vento solleverà i calcinacci."
          ],
          [
           "autore Roversi: Dove volano i passeri all’imbrunire?  L’aria è greve di silenzio.",
           "Dove volano i passeri all’imbrunire?  L’aria è greve di silenzio."
          ],
          [
           "autore Campana: Cielo stellato sopra di noi,  voce lontana d'un canto triste.",
           "Cielo stellato sopra di noi,  voce lontana d'un canto triste."
          ]
         ],
         "hovertemplate": "Testo: %{customdata[0]}",
         "legendgroup": "",
         "marker": {
          "color": "#636efa",
          "symbol": "circle"
         },
         "mode": "markers",
         "name": "",
         "orientation": "v",
         "showlegend": false,
         "type": "scatter",
         "x": [
          -0.2823779284954071,
          13.824856758117676,
          10.299094200134277,
          1.0809980630874634,
          11.602046012878418,
          17.281654357910156,
          -0.09295687824487686,
          -17.570905685424805,
          18.4393253326416,
          22.338611602783203,
          34.05166244506836,
          -15.242698669433594,
          -8.674056053161621,
          8.306991577148438,
          7.610043525695801,
          0.48293623328208923,
          -5.8589582443237305,
          -6.549588680267334,
          4.780191898345947,
          27.993671417236328,
          -16.456283569335938,
          17.567873001098633,
          21.887348175048828,
          9.58593463897705,
          9.868636131286621,
          23.696367263793945,
          28.055850982666016,
          -10.668456077575684,
          3.3416714668273926,
          6.176425933837891,
          -3.5879271030426025
         ],
         "xaxis": "x",
         "y": [
          18.997228622436523,
          8.15992259979248,
          3.7054569721221924,
          -4.633032321929932,
          20.989072799682617,
          -6.078650951385498,
          9.267180442810059,
          17.200990676879883,
          17.58603858947754,
          -9.07144832611084,
          13.954840660095215,
          22.401105880737305,
          8.728724479675293,
          -8.953987121582031,
          34.77535629272461,
          -19.540834426879883,
          -13.44927978515625,
          1.3620848655700684,
          28.84823989868164,
          10.663080215454102,
          4.405006408691406,
          28.65555763244629,
          32.10077667236328,
          27.274517059326172,
          -2.911644458770752,
          6.920997142791748,
          -9.183934211730957,
          -4.1077961921691895,
          1.626779556274414,
          18.948713302612305,
          15.015862464904785
         ],
         "yaxis": "y"
        }
       ],
       "layout": {
        "legend": {
         "tracegroupgap": 0
        },
        "margin": {
         "t": 60
        },
        "template": {
         "data": {
          "bar": [
           {
            "error_x": {
             "color": "#2a3f5f"
            },
            "error_y": {
             "color": "#2a3f5f"
            },
            "marker": {
             "line": {
              "color": "#E5ECF6",
              "width": 0.5
             },
             "pattern": {
              "fillmode": "overlay",
              "size": 10,
              "solidity": 0.2
             }
            },
            "type": "bar"
           }
          ],
          "barpolar": [
           {
            "marker": {
             "line": {
              "color": "#E5ECF6",
              "width": 0.5
             },
             "pattern": {
              "fillmode": "overlay",
              "size": 10,
              "solidity": 0.2
             }
            },
            "type": "barpolar"
           }
          ],
          "carpet": [
           {
            "aaxis": {
             "endlinecolor": "#2a3f5f",
             "gridcolor": "white",
             "linecolor": "white",
             "minorgridcolor": "white",
             "startlinecolor": "#2a3f5f"
            },
            "baxis": {
             "endlinecolor": "#2a3f5f",
             "gridcolor": "white",
             "linecolor": "white",
             "minorgridcolor": "white",
             "startlinecolor": "#2a3f5f"
            },
            "type": "carpet"
           }
          ],
          "choropleth": [
           {
            "colorbar": {
             "outlinewidth": 0,
             "ticks": ""
            },
            "type": "choropleth"
           }
          ],
          "contour": [
           {
            "colorbar": {
             "outlinewidth": 0,
             "ticks": ""
            },
            "colorscale": [
             [
              0,
              "#0d0887"
             ],
             [
              0.1111111111111111,
              "#46039f"
             ],
             [
              0.2222222222222222,
              "#7201a8"
             ],
             [
              0.3333333333333333,
              "#9c179e"
             ],
             [
              0.4444444444444444,
              "#bd3786"
             ],
             [
              0.5555555555555556,
              "#d8576b"
             ],
             [
              0.6666666666666666,
              "#ed7953"
             ],
             [
              0.7777777777777778,
              "#fb9f3a"
             ],
             [
              0.8888888888888888,
              "#fdca26"
             ],
             [
              1,
              "#f0f921"
             ]
            ],
            "type": "contour"
           }
          ],
          "contourcarpet": [
           {
            "colorbar": {
             "outlinewidth": 0,
             "ticks": ""
            },
            "type": "contourcarpet"
           }
          ],
          "heatmap": [
           {
            "colorbar": {
             "outlinewidth": 0,
             "ticks": ""
            },
            "colorscale": [
             [
              0,
              "#0d0887"
             ],
             [
              0.1111111111111111,
              "#46039f"
             ],
             [
              0.2222222222222222,
              "#7201a8"
             ],
             [
              0.3333333333333333,
              "#9c179e"
             ],
             [
              0.4444444444444444,
              "#bd3786"
             ],
             [
              0.5555555555555556,
              "#d8576b"
             ],
             [
              0.6666666666666666,
              "#ed7953"
             ],
             [
              0.7777777777777778,
              "#fb9f3a"
             ],
             [
              0.8888888888888888,
              "#fdca26"
             ],
             [
              1,
              "#f0f921"
             ]
            ],
            "type": "heatmap"
           }
          ],
          "heatmapgl": [
           {
            "colorbar": {
             "outlinewidth": 0,
             "ticks": ""
            },
            "colorscale": [
             [
              0,
              "#0d0887"
             ],
             [
              0.1111111111111111,
              "#46039f"
             ],
             [
              0.2222222222222222,
              "#7201a8"
             ],
             [
              0.3333333333333333,
              "#9c179e"
             ],
             [
              0.4444444444444444,
              "#bd3786"
             ],
             [
              0.5555555555555556,
              "#d8576b"
             ],
             [
              0.6666666666666666,
              "#ed7953"
             ],
             [
              0.7777777777777778,
              "#fb9f3a"
             ],
             [
              0.8888888888888888,
              "#fdca26"
             ],
             [
              1,
              "#f0f921"
             ]
            ],
            "type": "heatmapgl"
           }
          ],
          "histogram": [
           {
            "marker": {
             "pattern": {
              "fillmode": "overlay",
              "size": 10,
              "solidity": 0.2
             }
            },
            "type": "histogram"
           }
          ],
          "histogram2d": [
           {
            "colorbar": {
             "outlinewidth": 0,
             "ticks": ""
            },
            "colorscale": [
             [
              0,
              "#0d0887"
             ],
             [
              0.1111111111111111,
              "#46039f"
             ],
             [
              0.2222222222222222,
              "#7201a8"
             ],
             [
              0.3333333333333333,
              "#9c179e"
             ],
             [
              0.4444444444444444,
              "#bd3786"
             ],
             [
              0.5555555555555556,
              "#d8576b"
             ],
             [
              0.6666666666666666,
              "#ed7953"
             ],
             [
              0.7777777777777778,
              "#fb9f3a"
             ],
             [
              0.8888888888888888,
              "#fdca26"
             ],
             [
              1,
              "#f0f921"
             ]
            ],
            "type": "histogram2d"
           }
          ],
          "histogram2dcontour": [
           {
            "colorbar": {
             "outlinewidth": 0,
             "ticks": ""
            },
            "colorscale": [
             [
              0,
              "#0d0887"
             ],
             [
              0.1111111111111111,
              "#46039f"
             ],
             [
              0.2222222222222222,
              "#7201a8"
             ],
             [
              0.3333333333333333,
              "#9c179e"
             ],
             [
              0.4444444444444444,
              "#bd3786"
             ],
             [
              0.5555555555555556,
              "#d8576b"
             ],
             [
              0.6666666666666666,
              "#ed7953"
             ],
             [
              0.7777777777777778,
              "#fb9f3a"
             ],
             [
              0.8888888888888888,
              "#fdca26"
             ],
             [
              1,
              "#f0f921"
             ]
            ],
            "type": "histogram2dcontour"
           }
          ],
          "mesh3d": [
           {
            "colorbar": {
             "outlinewidth": 0,
             "ticks": ""
            },
            "type": "mesh3d"
           }
          ],
          "parcoords": [
           {
            "line": {
             "colorbar": {
              "outlinewidth": 0,
              "ticks": ""
             }
            },
            "type": "parcoords"
           }
          ],
          "pie": [
           {
            "automargin": true,
            "type": "pie"
           }
          ],
          "scatter": [
           {
            "fillpattern": {
             "fillmode": "overlay",
             "size": 10,
             "solidity": 0.2
            },
            "type": "scatter"
           }
          ],
          "scatter3d": [
           {
            "line": {
             "colorbar": {
              "outlinewidth": 0,
              "ticks": ""
             }
            },
            "marker": {
             "colorbar": {
              "outlinewidth": 0,
              "ticks": ""
             }
            },
            "type": "scatter3d"
           }
          ],
          "scattercarpet": [
           {
            "marker": {
             "colorbar": {
              "outlinewidth": 0,
              "ticks": ""
             }
            },
            "type": "scattercarpet"
           }
          ],
          "scattergeo": [
           {
            "marker": {
             "colorbar": {
              "outlinewidth": 0,
              "ticks": ""
             }
            },
            "type": "scattergeo"
           }
          ],
          "scattergl": [
           {
            "marker": {
             "colorbar": {
              "outlinewidth": 0,
              "ticks": ""
             }
            },
            "type": "scattergl"
           }
          ],
          "scattermapbox": [
           {
            "marker": {
             "colorbar": {
              "outlinewidth": 0,
              "ticks": ""
             }
            },
            "type": "scattermapbox"
           }
          ],
          "scatterpolar": [
           {
            "marker": {
             "colorbar": {
              "outlinewidth": 0,
              "ticks": ""
             }
            },
            "type": "scatterpolar"
           }
          ],
          "scatterpolargl": [
           {
            "marker": {
             "colorbar": {
              "outlinewidth": 0,
              "ticks": ""
             }
            },
            "type": "scatterpolargl"
           }
          ],
          "scatterternary": [
           {
            "marker": {
             "colorbar": {
              "outlinewidth": 0,
              "ticks": ""
             }
            },
            "type": "scatterternary"
           }
          ],
          "surface": [
           {
            "colorbar": {
             "outlinewidth": 0,
             "ticks": ""
            },
            "colorscale": [
             [
              0,
              "#0d0887"
             ],
             [
              0.1111111111111111,
              "#46039f"
             ],
             [
              0.2222222222222222,
              "#7201a8"
             ],
             [
              0.3333333333333333,
              "#9c179e"
             ],
             [
              0.4444444444444444,
              "#bd3786"
             ],
             [
              0.5555555555555556,
              "#d8576b"
             ],
             [
              0.6666666666666666,
              "#ed7953"
             ],
             [
              0.7777777777777778,
              "#fb9f3a"
             ],
             [
              0.8888888888888888,
              "#fdca26"
             ],
             [
              1,
              "#f0f921"
             ]
            ],
            "type": "surface"
           }
          ],
          "table": [
           {
            "cells": {
             "fill": {
              "color": "#EBF0F8"
             },
             "line": {
              "color": "white"
             }
            },
            "header": {
             "fill": {
              "color": "#C8D4E3"
             },
             "line": {
              "color": "white"
             }
            },
            "type": "table"
           }
          ]
         },
         "layout": {
          "annotationdefaults": {
           "arrowcolor": "#2a3f5f",
           "arrowhead": 0,
           "arrowwidth": 1
          },
          "autotypenumbers": "strict",
          "coloraxis": {
           "colorbar": {
            "outlinewidth": 0,
            "ticks": ""
           }
          },
          "colorscale": {
           "diverging": [
            [
             0,
             "#8e0152"
            ],
            [
             0.1,
             "#c51b7d"
            ],
            [
             0.2,
             "#de77ae"
            ],
            [
             0.3,
             "#f1b6da"
            ],
            [
             0.4,
             "#fde0ef"
            ],
            [
             0.5,
             "#f7f7f7"
            ],
            [
             0.6,
             "#e6f5d0"
            ],
            [
             0.7,
             "#b8e186"
            ],
            [
             0.8,
             "#7fbc41"
            ],
            [
             0.9,
             "#4d9221"
            ],
            [
             1,
             "#276419"
            ]
           ],
           "sequential": [
            [
             0,
             "#0d0887"
            ],
            [
             0.1111111111111111,
             "#46039f"
            ],
            [
             0.2222222222222222,
             "#7201a8"
            ],
            [
             0.3333333333333333,
             "#9c179e"
            ],
            [
             0.4444444444444444,
             "#bd3786"
            ],
            [
             0.5555555555555556,
             "#d8576b"
            ],
            [
             0.6666666666666666,
             "#ed7953"
            ],
            [
             0.7777777777777778,
             "#fb9f3a"
            ],
            [
             0.8888888888888888,
             "#fdca26"
            ],
            [
             1,
             "#f0f921"
            ]
           ],
           "sequentialminus": [
            [
             0,
             "#0d0887"
            ],
            [
             0.1111111111111111,
             "#46039f"
            ],
            [
             0.2222222222222222,
             "#7201a8"
            ],
            [
             0.3333333333333333,
             "#9c179e"
            ],
            [
             0.4444444444444444,
             "#bd3786"
            ],
            [
             0.5555555555555556,
             "#d8576b"
            ],
            [
             0.6666666666666666,
             "#ed7953"
            ],
            [
             0.7777777777777778,
             "#fb9f3a"
            ],
            [
             0.8888888888888888,
             "#fdca26"
            ],
            [
             1,
             "#f0f921"
            ]
           ]
          },
          "colorway": [
           "#636efa",
           "#EF553B",
           "#00cc96",
           "#ab63fa",
           "#FFA15A",
           "#19d3f3",
           "#FF6692",
           "#B6E880",
           "#FF97FF",
           "#FECB52"
          ],
          "font": {
           "color": "#2a3f5f"
          },
          "geo": {
           "bgcolor": "white",
           "lakecolor": "white",
           "landcolor": "#E5ECF6",
           "showlakes": true,
           "showland": true,
           "subunitcolor": "white"
          },
          "hoverlabel": {
           "align": "left"
          },
          "hovermode": "closest",
          "mapbox": {
           "style": "light"
          },
          "paper_bgcolor": "white",
          "plot_bgcolor": "#E5ECF6",
          "polar": {
           "angularaxis": {
            "gridcolor": "white",
            "linecolor": "white",
            "ticks": ""
           },
           "bgcolor": "#E5ECF6",
           "radialaxis": {
            "gridcolor": "white",
            "linecolor": "white",
            "ticks": ""
           }
          },
          "scene": {
           "xaxis": {
            "backgroundcolor": "#E5ECF6",
            "gridcolor": "white",
            "gridwidth": 2,
            "linecolor": "white",
            "showbackground": true,
            "ticks": "",
            "zerolinecolor": "white"
           },
           "yaxis": {
            "backgroundcolor": "#E5ECF6",
            "gridcolor": "white",
            "gridwidth": 2,
            "linecolor": "white",
            "showbackground": true,
            "ticks": "",
            "zerolinecolor": "white"
           },
           "zaxis": {
            "backgroundcolor": "#E5ECF6",
            "gridcolor": "white",
            "gridwidth": 2,
            "linecolor": "white",
            "showbackground": true,
            "ticks": "",
            "zerolinecolor": "white"
           }
          },
          "shapedefaults": {
           "line": {
            "color": "#2a3f5f"
           }
          },
          "ternary": {
           "aaxis": {
            "gridcolor": "white",
            "linecolor": "white",
            "ticks": ""
           },
           "baxis": {
            "gridcolor": "white",
            "linecolor": "white",
            "ticks": ""
           },
           "bgcolor": "#E5ECF6",
           "caxis": {
            "gridcolor": "white",
            "linecolor": "white",
            "ticks": ""
           }
          },
          "title": {
           "x": 0.05
          },
          "xaxis": {
           "automargin": true,
           "gridcolor": "white",
           "linecolor": "white",
           "ticks": "",
           "title": {
            "standoff": 15
           },
           "zerolinecolor": "white",
           "zerolinewidth": 2
          },
          "yaxis": {
           "automargin": true,
           "gridcolor": "white",
           "linecolor": "white",
           "ticks": "",
           "title": {
            "standoff": 15
           },
           "zerolinecolor": "white",
           "zerolinewidth": 2
          }
         }
        },
        "xaxis": {
         "anchor": "y",
         "domain": [
          0,
          1
         ],
         "title": {
          "text": "x"
         }
        },
        "yaxis": {
         "anchor": "x",
         "domain": [
          0,
          1
         ],
         "title": {
          "text": "y"
         }
        }
       }
      }
     },
     "metadata": {},
     "output_type": "display_data"
    }
   ],
   "source": [
    "import plotly.express as px\n",
    "import pandas as pd\n",
    "from sklearn.manifold import TSNE\n",
    "\n",
    "# Riduciozne della dimensionalità degli embedding con t-SNE\n",
    "tsne = TSNE(n_components=2, perplexity=10)\n",
    "embeddings_2d = tsne.fit_transform(book_embeddings.cpu().numpy())\n",
    "\n",
    "df = pd.DataFrame(embeddings_2d, columns=['x', 'y'])\n",
    "df['text'] = books  # Aggiungi il testo dei libri al DataFrame\n",
    "df['hover_text'] = df['text'].str.split(':').str[1].str.strip() # Estrai solo la parte dopo il \":\"\n",
    "\n",
    "#  grafico interattivo con Plotly\n",
    "fig = px.scatter(df, x='x', y='y', hover_data={'text':False, 'hover_text': True}, custom_data=['text'])\n",
    "\n",
    "fig.update_traces(\n",
    "    hovertemplate=\"<br>\".join([\n",
    "        \"Testo: %{customdata[0]}\",\n",
    "    ])\n",
    ")\n",
    "\n",
    "\n",
    "fig.show()"
   ]
  },
  {
   "cell_type": "code",
   "execution_count": null,
   "metadata": {
    "colab": {
     "base_uri": "https://localhost:8080/"
    },
    "id": "EdRjveut9EuQ",
    "outputId": "c09e4ab6-bb34-4f7f-87a2-666e3a8df238"
   },
   "outputs": [
    {
     "name": "stdout",
     "output_type": "stream",
     "text": [
      "\n",
      "Risultati della query:\n",
      "Libro: autore Campana: Cielo stellato sopra di noi,  voce lontana d'un canto triste. | Similarità: 0.5994\n",
      "Libro: autore Petrarca: Solo e pensoso i più deserti campi  vo mesurando a passi tardi e lenti,  e gli occhi porto per fuggire intenti  ove vestigio uman l'arena stampi. | Similarità: 0.5644\n",
      "Libro: autore Leopardi: Sempre caro mi fu quest’ermo colle,  e questa siepe, che da tanta parte  dell'ultimo orizzonte il guardo esclude. | Similarità: 0.5607\n",
      "Libro: autore Pellico: Alla patria io respiro e chiudo in cuore  tutta la dolce libertà del cielo. | Similarità: 0.5602\n",
      "Libro: autore De Amicis: Scendeva lieve la pioggia d’oro  e i bimbi la correvano a inseguire. | Similarità: 0.5544\n",
      "Libro: autore Tommasèo: Che giova all'uom la forza de l'argento?  La povertà è più che il ricco vanto. | Similarità: 0.5485\n",
      "Libro: autore Tasso: Oh bella libertà, dolce è il tuo raggio  a chi è cresciuto in sen d’una speranza! | Similarità: 0.5447\n",
      "Libro: autore Roversi: Dove volano i passeri all’imbrunire?  L’aria è greve di silenzio. | Similarità: 0.5442\n",
      "Libro: autore Dante: Nel mezzo del cammin di nostra vita  mi ritrovai per una selva oscura,  ché la diritta via era smarrita. | Similarità: 0.5407\n",
      "Libro: autore Prati: Fino a quel giorno in cui ritornerò  da te, là dove mai ti lasciai. | Similarità: 0.5378\n",
      "Libro: autore Pascoli: San Lorenzo, io lo so perché tanto di stelle  per l'aria tranquilla arde e cade, perché sì gran pianto  nel concavo cielo sfavilla. | Similarità: 0.5374\n",
      "Libro: autore Parini: Tu, ch’eri sì, nel voler degli altri, e il tuo,  sì pura e alteramente quieta. | Similarità: 0.5308\n",
      "Libro: autore Quasimodo: Ed è subito sera. | Similarità: 0.5207\n",
      "Libro: autore Verga: Una perla nel mar, chi mai la trova  non sa che sarà poi per sempre sua. | Similarità: 0.5152\n",
      "Libro: autore Giusti: Ride la gazza, nera sugli aranci,  stormi d’uccelli neri a volo basso. | Similarità: 0.5129\n",
      "Libro: autore Marinetti: Parole in libertà  illuminano il buio della notte. | Similarità: 0.5097\n",
      "Libro: autore Ariosto: Le donne, i cavallier, l'arme, gli amori,  le cortesie, l'audaci imprese io canto. | Similarità: 0.4945\n",
      "Libro: autore Pavese: Verrà la morte e avrà i tuoi occhi. | Similarità: 0.4877\n",
      "Libro: autore Sereni: Se non faremo i conti,  il vento solleverà i calcinacci. | Similarità: 0.4852\n",
      "Libro: autore Guinizelli: Al cor gentil rempaira sempre amore,  com'a l'ausello in selva la verdura. | Similarità: 0.4840\n",
      "Libro: autore Saba: La casa di mia madre a Trieste era quieta e scura. | Similarità: 0.4765\n",
      "Libro: autore Manzoni: Ei fu. Siccome immobile,  dato il mortal sospiro. | Similarità: 0.4723\n",
      "Libro: autore D’Annunzio: Settembre, andiamo. È tempo di migrare. | Similarità: 0.4700\n",
      "Libro: autore Foscolo: A egregie cose il forte animo accendono  l'urne de' forti o Pindemonte. | Similarità: 0.4669\n",
      "Libro: autore Caproni: Lo sai che io so che tu sai,  ma ognuno sa quel che sa e tace. | Similarità: 0.4613\n",
      "Libro: autore Ungaretti: Si sta come d’autunno  sugli alberi le foglie. | Similarità: 0.4606\n",
      "Libro: autore Carducci: Davanti a San Guido  i cipressi che a Bolgheri alti e schietti  van da San Guido in duplice filar. | Similarità: 0.4570\n",
      "Libro: autore Montale: Spesso il male di vivere ho incontrato:  era il rivo strozzato che gorgoglia. | Similarità: 0.4560\n",
      "Libro: autore Gozzano: Non amo che le rose  che non colsi. | Similarità: 0.4529\n",
      "Libro: autore Govoni: I tuoi occhi sono pozzi di fuoco, dove s'affondano i miei sogni. | Similarità: 0.4262\n",
      "Libro: autore Boiardo: Amor, che nel mio pensier vive e regna  e 'l suo seggio maggior nel cor mantiene. | Similarità: 0.4040\n"
     ]
    }
   ],
   "source": [
    "# Query dell'utente\n",
    "query = \"vorrei leggere una poesia triste e malinconica\"\n",
    "\n",
    "# Calcolo l'embedding della query\n",
    "query_embedding = model.encode(query, convert_to_tensor=True)\n",
    "\n",
    "# Calcolo la similarità coseno tra la query e ogni libro\n",
    "cosine_scores = util.cos_sim(query_embedding, book_embeddings)\n",
    "\n",
    "# Ordino in base alla similarità\n",
    "results = list(enumerate(cosine_scores[0].cpu().numpy()))\n",
    "results = sorted(results, key=lambda x: x[1], reverse=True)\n",
    "\n",
    "# Show results \n",
    "print(\"\\nRisultati della query:\")\n",
    "for idx, score in results:\n",
    "    print(f\"Libro: {books[idx]} | Similarità: {score:.4f}\")\n"
   ]
  },
  {
   "cell_type": "code",
   "execution_count": null,
   "metadata": {
    "id": "d4z0xLLB9HW4"
   },
   "outputs": [],
   "source": []
  }
 ],
 "metadata": {
  "colab": {
   "provenance": []
  },
  "kernelspec": {
   "display_name": "tensorflow-metal",
   "language": "python",
   "name": "python3"
  },
  "language_info": {
   "codemirror_mode": {
    "name": "ipython",
    "version": 3
   },
   "file_extension": ".py",
   "mimetype": "text/x-python",
   "name": "python",
   "nbconvert_exporter": "python",
   "pygments_lexer": "ipython3",
   "version": "3.9.15"
  }
 },
 "nbformat": 4,
 "nbformat_minor": 0
}
